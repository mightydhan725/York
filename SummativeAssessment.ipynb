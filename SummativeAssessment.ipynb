{
  "nbformat": 4,
  "nbformat_minor": 0,
  "metadata": {
    "colab": {
      "provenance": [],
      "authorship_tag": "ABX9TyOS8yzzpbXY4fgHqKUYqkPb",
      "include_colab_link": true
    },
    "kernelspec": {
      "name": "python3",
      "display_name": "Python 3"
    },
    "language_info": {
      "name": "python"
    }
  },
  "cells": [
    {
      "cell_type": "markdown",
      "metadata": {
        "id": "view-in-github",
        "colab_type": "text"
      },
      "source": [
        "<a href=\"https://colab.research.google.com/github/mightydhan725/York/blob/main/SummativeAssessment.ipynb\" target=\"_parent\"><img src=\"https://colab.research.google.com/assets/colab-badge.svg\" alt=\"Open In Colab\"/></a>"
      ]
    },
    {
      "cell_type": "code",
      "source": [
        "!pip install xlwt"
      ],
      "metadata": {
        "colab": {
          "base_uri": "https://localhost:8080/"
        },
        "id": "qsPCkuOr2OA4",
        "outputId": "f62e24bf-5eca-4de7-acf4-2399a651fd42"
      },
      "execution_count": 2,
      "outputs": [
        {
          "output_type": "stream",
          "name": "stdout",
          "text": [
            "Looking in indexes: https://pypi.org/simple, https://us-python.pkg.dev/colab-wheels/public/simple/\n",
            "Collecting xlwt\n",
            "  Downloading xlwt-1.3.0-py2.py3-none-any.whl (99 kB)\n",
            "\u001b[2K     \u001b[90m━━━━━━━━━━━━━━━━━━━━━━━━━━━━━━━━━━━━━━━\u001b[0m \u001b[32m100.0/100.0 kB\u001b[0m \u001b[31m3.0 MB/s\u001b[0m eta \u001b[36m0:00:00\u001b[0m\n",
            "\u001b[?25hInstalling collected packages: xlwt\n",
            "Successfully installed xlwt-1.3.0\n"
          ]
        }
      ]
    },
    {
      "cell_type": "code",
      "execution_count": 3,
      "metadata": {
        "colab": {
          "base_uri": "https://localhost:8080/"
        },
        "id": "sUULllR1swfN",
        "outputId": "11a8774c-e51a-4923-e890-74ad8ed95d21"
      },
      "outputs": [
        {
          "output_type": "stream",
          "name": "stdout",
          "text": [
            "Mounted at /content/drive/\n"
          ]
        }
      ],
      "source": [
        "from xlwt import Workbook\n",
        "from google.colab import drive\n",
        "import pandas as pd\n",
        "import os\n",
        "\n",
        "drive.mount('/content/drive/')\n",
        "os.chdir('/content/drive/My Drive/Summative_Assessment')\n",
        "\n"
      ]
    },
    {
      "cell_type": "code",
      "source": [
        "!pwd"
      ],
      "metadata": {
        "colab": {
          "base_uri": "https://localhost:8080/"
        },
        "id": "1SibzBrH2chV",
        "outputId": "297eb445-ea92-4078-d18f-030541aaa292"
      },
      "execution_count": 4,
      "outputs": [
        {
          "output_type": "stream",
          "name": "stdout",
          "text": [
            "/content/drive/My Drive/Summative_Assessment\n"
          ]
        }
      ]
    },
    {
      "cell_type": "code",
      "source": [
        "trainData=pd.read_excel('BankChurnersTrain.xls')\n",
        "testData=pd.read_excel('BankChurnersTest.xls')\n",
        "testData.head(3)"
      ],
      "metadata": {
        "colab": {
          "base_uri": "https://localhost:8080/",
          "height": 289
        },
        "id": "aMJ_G3062g18",
        "outputId": "2f9af321-fb81-4b49-c793-3857d9a5ff1f"
      },
      "execution_count": 6,
      "outputs": [
        {
          "output_type": "execute_result",
          "data": {
            "text/plain": [
              "       CCNum     Trans_date_Time     Attrition_Flag    Surname  Age Gender  \\\n",
              "0  717651333 2019-01-06 05:05:36  Existing Customer    Davison   56      F   \n",
              "1  798489258 2019-01-06 05:06:28  Attrited Customer   Hamilton   60      M   \n",
              "2  710742408 2019-01-06 05:07:04  Existing Customer  Nnachetam   54      M   \n",
              "\n",
              "   CreditScore Geography  Tenure Education_Level  ... Credit_Limit  \\\n",
              "0          896    France       5       Doctorate  ...      26923.0   \n",
              "1          787   Germany       8         College  ...      15977.0   \n",
              "2          777     Spain       9     High School  ...      26812.0   \n",
              "\n",
              "  Total_Trans_Amt  Total_Trans_Ct    Balance  NumOfProducts  HasCrCard  \\\n",
              "0           13643              94  142662.68              1          0   \n",
              "1            7745              64  102603.30              2          1   \n",
              "2           14838             110       0.00              2          1   \n",
              "\n",
              "   IsActiveMember  EstimatedSalary  is_fraud  Exited  \n",
              "0               0         60285.30         0       0  \n",
              "1               1        180693.61         0       0  \n",
              "2               0        126475.79         0       0  \n",
              "\n",
              "[3 rows x 22 columns]"
            ],
            "text/html": [
              "\n",
              "  <div id=\"df-0e420ff8-b50a-415e-9740-73788362ba0c\">\n",
              "    <div class=\"colab-df-container\">\n",
              "      <div>\n",
              "<style scoped>\n",
              "    .dataframe tbody tr th:only-of-type {\n",
              "        vertical-align: middle;\n",
              "    }\n",
              "\n",
              "    .dataframe tbody tr th {\n",
              "        vertical-align: top;\n",
              "    }\n",
              "\n",
              "    .dataframe thead th {\n",
              "        text-align: right;\n",
              "    }\n",
              "</style>\n",
              "<table border=\"1\" class=\"dataframe\">\n",
              "  <thead>\n",
              "    <tr style=\"text-align: right;\">\n",
              "      <th></th>\n",
              "      <th>CCNum</th>\n",
              "      <th>Trans_date_Time</th>\n",
              "      <th>Attrition_Flag</th>\n",
              "      <th>Surname</th>\n",
              "      <th>Age</th>\n",
              "      <th>Gender</th>\n",
              "      <th>CreditScore</th>\n",
              "      <th>Geography</th>\n",
              "      <th>Tenure</th>\n",
              "      <th>Education_Level</th>\n",
              "      <th>...</th>\n",
              "      <th>Credit_Limit</th>\n",
              "      <th>Total_Trans_Amt</th>\n",
              "      <th>Total_Trans_Ct</th>\n",
              "      <th>Balance</th>\n",
              "      <th>NumOfProducts</th>\n",
              "      <th>HasCrCard</th>\n",
              "      <th>IsActiveMember</th>\n",
              "      <th>EstimatedSalary</th>\n",
              "      <th>is_fraud</th>\n",
              "      <th>Exited</th>\n",
              "    </tr>\n",
              "  </thead>\n",
              "  <tbody>\n",
              "    <tr>\n",
              "      <th>0</th>\n",
              "      <td>717651333</td>\n",
              "      <td>2019-01-06 05:05:36</td>\n",
              "      <td>Existing Customer</td>\n",
              "      <td>Davison</td>\n",
              "      <td>56</td>\n",
              "      <td>F</td>\n",
              "      <td>896</td>\n",
              "      <td>France</td>\n",
              "      <td>5</td>\n",
              "      <td>Doctorate</td>\n",
              "      <td>...</td>\n",
              "      <td>26923.0</td>\n",
              "      <td>13643</td>\n",
              "      <td>94</td>\n",
              "      <td>142662.68</td>\n",
              "      <td>1</td>\n",
              "      <td>0</td>\n",
              "      <td>0</td>\n",
              "      <td>60285.30</td>\n",
              "      <td>0</td>\n",
              "      <td>0</td>\n",
              "    </tr>\n",
              "    <tr>\n",
              "      <th>1</th>\n",
              "      <td>798489258</td>\n",
              "      <td>2019-01-06 05:06:28</td>\n",
              "      <td>Attrited Customer</td>\n",
              "      <td>Hamilton</td>\n",
              "      <td>60</td>\n",
              "      <td>M</td>\n",
              "      <td>787</td>\n",
              "      <td>Germany</td>\n",
              "      <td>8</td>\n",
              "      <td>College</td>\n",
              "      <td>...</td>\n",
              "      <td>15977.0</td>\n",
              "      <td>7745</td>\n",
              "      <td>64</td>\n",
              "      <td>102603.30</td>\n",
              "      <td>2</td>\n",
              "      <td>1</td>\n",
              "      <td>1</td>\n",
              "      <td>180693.61</td>\n",
              "      <td>0</td>\n",
              "      <td>0</td>\n",
              "    </tr>\n",
              "    <tr>\n",
              "      <th>2</th>\n",
              "      <td>710742408</td>\n",
              "      <td>2019-01-06 05:07:04</td>\n",
              "      <td>Existing Customer</td>\n",
              "      <td>Nnachetam</td>\n",
              "      <td>54</td>\n",
              "      <td>M</td>\n",
              "      <td>777</td>\n",
              "      <td>Spain</td>\n",
              "      <td>9</td>\n",
              "      <td>High School</td>\n",
              "      <td>...</td>\n",
              "      <td>26812.0</td>\n",
              "      <td>14838</td>\n",
              "      <td>110</td>\n",
              "      <td>0.00</td>\n",
              "      <td>2</td>\n",
              "      <td>1</td>\n",
              "      <td>0</td>\n",
              "      <td>126475.79</td>\n",
              "      <td>0</td>\n",
              "      <td>0</td>\n",
              "    </tr>\n",
              "  </tbody>\n",
              "</table>\n",
              "<p>3 rows × 22 columns</p>\n",
              "</div>\n",
              "      <button class=\"colab-df-convert\" onclick=\"convertToInteractive('df-0e420ff8-b50a-415e-9740-73788362ba0c')\"\n",
              "              title=\"Convert this dataframe to an interactive table.\"\n",
              "              style=\"display:none;\">\n",
              "        \n",
              "  <svg xmlns=\"http://www.w3.org/2000/svg\" height=\"24px\"viewBox=\"0 0 24 24\"\n",
              "       width=\"24px\">\n",
              "    <path d=\"M0 0h24v24H0V0z\" fill=\"none\"/>\n",
              "    <path d=\"M18.56 5.44l.94 2.06.94-2.06 2.06-.94-2.06-.94-.94-2.06-.94 2.06-2.06.94zm-11 1L8.5 8.5l.94-2.06 2.06-.94-2.06-.94L8.5 2.5l-.94 2.06-2.06.94zm10 10l.94 2.06.94-2.06 2.06-.94-2.06-.94-.94-2.06-.94 2.06-2.06.94z\"/><path d=\"M17.41 7.96l-1.37-1.37c-.4-.4-.92-.59-1.43-.59-.52 0-1.04.2-1.43.59L10.3 9.45l-7.72 7.72c-.78.78-.78 2.05 0 2.83L4 21.41c.39.39.9.59 1.41.59.51 0 1.02-.2 1.41-.59l7.78-7.78 2.81-2.81c.8-.78.8-2.07 0-2.86zM5.41 20L4 18.59l7.72-7.72 1.47 1.35L5.41 20z\"/>\n",
              "  </svg>\n",
              "      </button>\n",
              "      \n",
              "  <style>\n",
              "    .colab-df-container {\n",
              "      display:flex;\n",
              "      flex-wrap:wrap;\n",
              "      gap: 12px;\n",
              "    }\n",
              "\n",
              "    .colab-df-convert {\n",
              "      background-color: #E8F0FE;\n",
              "      border: none;\n",
              "      border-radius: 50%;\n",
              "      cursor: pointer;\n",
              "      display: none;\n",
              "      fill: #1967D2;\n",
              "      height: 32px;\n",
              "      padding: 0 0 0 0;\n",
              "      width: 32px;\n",
              "    }\n",
              "\n",
              "    .colab-df-convert:hover {\n",
              "      background-color: #E2EBFA;\n",
              "      box-shadow: 0px 1px 2px rgba(60, 64, 67, 0.3), 0px 1px 3px 1px rgba(60, 64, 67, 0.15);\n",
              "      fill: #174EA6;\n",
              "    }\n",
              "\n",
              "    [theme=dark] .colab-df-convert {\n",
              "      background-color: #3B4455;\n",
              "      fill: #D2E3FC;\n",
              "    }\n",
              "\n",
              "    [theme=dark] .colab-df-convert:hover {\n",
              "      background-color: #434B5C;\n",
              "      box-shadow: 0px 1px 3px 1px rgba(0, 0, 0, 0.15);\n",
              "      filter: drop-shadow(0px 1px 2px rgba(0, 0, 0, 0.3));\n",
              "      fill: #FFFFFF;\n",
              "    }\n",
              "  </style>\n",
              "\n",
              "      <script>\n",
              "        const buttonEl =\n",
              "          document.querySelector('#df-0e420ff8-b50a-415e-9740-73788362ba0c button.colab-df-convert');\n",
              "        buttonEl.style.display =\n",
              "          google.colab.kernel.accessAllowed ? 'block' : 'none';\n",
              "\n",
              "        async function convertToInteractive(key) {\n",
              "          const element = document.querySelector('#df-0e420ff8-b50a-415e-9740-73788362ba0c');\n",
              "          const dataTable =\n",
              "            await google.colab.kernel.invokeFunction('convertToInteractive',\n",
              "                                                     [key], {});\n",
              "          if (!dataTable) return;\n",
              "\n",
              "          const docLinkHtml = 'Like what you see? Visit the ' +\n",
              "            '<a target=\"_blank\" href=https://colab.research.google.com/notebooks/data_table.ipynb>data table notebook</a>'\n",
              "            + ' to learn more about interactive tables.';\n",
              "          element.innerHTML = '';\n",
              "          dataTable['output_type'] = 'display_data';\n",
              "          await google.colab.output.renderOutput(dataTable, element);\n",
              "          const docLink = document.createElement('div');\n",
              "          docLink.innerHTML = docLinkHtml;\n",
              "          element.appendChild(docLink);\n",
              "        }\n",
              "      </script>\n",
              "    </div>\n",
              "  </div>\n",
              "  "
            ]
          },
          "metadata": {},
          "execution_count": 6
        }
      ]
    },
    {
      "cell_type": "code",
      "source": [
        "trainData[\"Card_Category\"].unique()"
      ],
      "metadata": {
        "colab": {
          "base_uri": "https://localhost:8080/"
        },
        "id": "ncZSdBNSfJ1w",
        "outputId": "582fe7d2-8394-413e-9e1c-be11a415b532"
      },
      "execution_count": 24,
      "outputs": [
        {
          "output_type": "execute_result",
          "data": {
            "text/plain": [
              "array(['Blue', 'Gold', 'Silver', 'Platinum'], dtype=object)"
            ]
          },
          "metadata": {},
          "execution_count": 24
        }
      ]
    },
    {
      "cell_type": "code",
      "source": [
        "import numpy as np\n",
        "\n",
        "trainData[\"Attrition_Flag\"]=trainData[\"Attrition_Flag\"].replace(['Existing Customer', 'Attrited Customer'],['1', '0'])\n",
        "\n",
        "trainData[\"Gender\"]=trainData[\"Gender\"].replace(['M', 'F'],['1', '0'])\n",
        "\n",
        "trainData[\"Geography_France\"]=np.where(trainData[\"Geography\"]==\"France\",1,0)\n",
        "trainData[\"Geography_Spain\"]=np.where(trainData[\"Geography\"]==\"Spain\",1,0)\n",
        "trainData[\"Geography_Germany\"]=np.where(trainData[\"Geography\"]==\"Germany\",1,0)\n",
        "\n",
        "trainData[\"Education_Level_High_School\"]=np.where(trainData[\"Education_Level\"]==\"High School\",1,0)\n",
        "trainData[\"Education_Level_Graduate\"]=np.where(trainData[\"Education_Level\"]==\"Graduate\",1,0)\n",
        "trainData[\"Education_Level_Uneducated\"]=np.where(trainData[\"Education_Level\"]==\"Uneducated\",1,0)\n",
        "trainData[\"Education_Level_Unknown\"]=np.where(trainData[\"Education_Level\"]==\"Unknown\",1,0)\n",
        "trainData[\"Education_Level_College\"]=np.where(trainData[\"Education_Level\"]==\"College\",1,0)\n",
        "trainData[\"Education_Level_Post_Graduate\"]=np.where(trainData[\"Education_Level\"]==\"Post-Graduate\",1,0)\n",
        "trainData[\"Education_Level_Doctorate\"]=np.where(trainData[\"Education_Level\"]==\"Doctorate\",1,0)\n",
        "\n",
        "trainData[\"Income_Category_60_To_80\"]=np.where(trainData[\"Income_Category\"]==\"$60K - $80K\",1,0)\n",
        "trainData[\"Income_Category_Less_Than_40\"]=np.where(trainData[\"Income_Category\"]==\"Less than $40K\",1,0)\n",
        "trainData[\"Income_Category_80_To_120\"]=np.where(trainData[\"Income_Category\"]==\"$80K - $120K\",1,0)\n",
        "trainData[\"Income_Category_40_To_60\"]=np.where(trainData[\"Income_Category\"]==\"$40K - $60K\",1,0)\n",
        "trainData[\"Income_Category_120_Plus\"]=np.where(trainData[\"Income_Category\"]==\"$120K +\",1,0)\n",
        "trainData[\"Income_Category_Unknown\"]=np.where(trainData[\"Income_Category\"]==\"Unknown\",1,0)\n",
        "\n",
        "trainData[\"Card_Category_Blue\"]=np.where(trainData[\"Card_Category\"]==\"Blue\",1,0)\n",
        "trainData[\"Card_Category_Gold\"]=np.where(trainData[\"Card_Category\"]==\"Gold\",1,0)\n",
        "trainData[\"Card_Category_Silver\"]=np.where(trainData[\"Card_Category\"]==\"Silver\",1,0)\n",
        "trainData[\"Card_Category_Platinum\"]=np.where(trainData[\"Card_Category\"]==\"Platinum\",1,0)\n",
        "\n",
        "convert_dict = {'Attrition_Flag': int,\n",
        "                'Gender': int,\n",
        "                'Geography_France' : int,\n",
        "                'Geography_Spain' : int,\n",
        "                'Geography_Germany' : int,\n",
        "                'Education_Level_High_School' : int,\n",
        "                'Education_Level_Graduate' : int,\n",
        "                'Education_Level_Uneducated' : int,\n",
        "                'Education_Level_Unknown' : int,\n",
        "                'Education_Level_College' : int,\n",
        "                'Education_Level_Post_Graduate' : int,\n",
        "                'Education_Level_Doctorate' : int,\n",
        "                'Income_Category_60_To_80' : int,\n",
        "                'Income_Category_Less_Than_40' : int,\n",
        "                'Income_Category_80_To_120' : int,\n",
        "                'Income_Category_40_To_60' : int,\n",
        "                'Income_Category_120_Plus' : int,\n",
        "                'Income_Category_Unknown' : int,\n",
        "                'Card_Category_Blue' : int,\n",
        "                'Card_Category_Gold' : int,\n",
        "                'Card_Category_Silver' : int,\n",
        "                'Card_Category_Platinum' : int\n",
        "                }\n",
        "\n",
        "trainData = trainData.astype(convert_dict)\n",
        "trainData.head(5)"
      ],
      "metadata": {
        "id": "2mwF3AFTgDxi"
      },
      "execution_count": null,
      "outputs": []
    },
    {
      "cell_type": "code",
      "source": [
        "trainData.to_excel(\"trainData_output_v1.xls\")"
      ],
      "metadata": {
        "colab": {
          "base_uri": "https://localhost:8080/"
        },
        "id": "zkure1iV2YKe",
        "outputId": "96c63ff8-dbab-4657-a34e-7dca0b7a60d8"
      },
      "execution_count": 26,
      "outputs": [
        {
          "output_type": "stream",
          "name": "stderr",
          "text": [
            "<ipython-input-26-bba0d271f61f>:1: FutureWarning: As the xlwt package is no longer maintained, the xlwt engine will be removed in a future version of pandas. This is the only engine in pandas that supports writing in the xls format. Install openpyxl and write to an xlsx file instead. You can set the option io.excel.xls.writer to 'xlwt' to silence this warning. While this option is deprecated and will also raise a warning, it can be globally set and the warning suppressed.\n",
            "  trainData.to_excel(\"trainData_output_v1.xls\")\n"
          ]
        }
      ]
    },
    {
      "cell_type": "code",
      "source": [
        "from sklearn.preprocessing import StandardScaler\n",
        "\n",
        "scaler = StandardScaler()\n",
        "trainData[[\"Age_Scaled\",\"CreditScore_Scaled\",\"Tenure_Scaled\",\"Credit_Limit_Scaled\",\"Total_Trans_Amt_Scaled\",\"Total_Trans_Ct_Scaled\",\"Balance_Scaled\",\"NumOfProducts_Scaled\",\"EstimatedSalary_Scaled\"]]=scaler.fit_transform(trainData[[\"Age\",\"CreditScore\",\"Tenure\",\"Credit_Limit\",\"Total_Trans_Amt\",\"Total_Trans_Ct\",\"Balance\",\"NumOfProducts\",\"EstimatedSalary\"]])\n",
        "trainData.head(5)"
      ],
      "metadata": {
        "id": "uubKeW6-d7el"
      },
      "execution_count": null,
      "outputs": []
    },
    {
      "cell_type": "code",
      "source": [
        "trainData.to_excel(\"trainData_output_v4.xls\")"
      ],
      "metadata": {
        "colab": {
          "base_uri": "https://localhost:8080/"
        },
        "id": "8BfdhcST40zg",
        "outputId": "a1746dc2-b5b7-4e60-8ac1-8ebed47c6f26"
      },
      "execution_count": 33,
      "outputs": [
        {
          "output_type": "stream",
          "name": "stderr",
          "text": [
            "<ipython-input-33-c31377709e2f>:1: FutureWarning: As the xlwt package is no longer maintained, the xlwt engine will be removed in a future version of pandas. This is the only engine in pandas that supports writing in the xls format. Install openpyxl and write to an xlsx file instead. You can set the option io.excel.xls.writer to 'xlwt' to silence this warning. While this option is deprecated and will also raise a warning, it can be globally set and the warning suppressed.\n",
            "  trainData.to_excel(\"trainData_output_v4.xls\")\n"
          ]
        }
      ]
    },
    {
      "cell_type": "code",
      "source": [
        "trainDataToPCA=trainData[['Attrition_Flag','Gender','HasCrCard','IsActiveMember','is_fraud','Exited','Geography_France','Geography_Spain','Geography_Germany','Education_Level_High_School','Education_Level_Graduate','Education_Level_Uneducated','Education_Level_Unknown','Education_Level_College','Education_Level_Post_Graduate','Education_Level_Doctorate','Income_Category_60_To_80','Income_Category_Less_Than_40','Income_Category_80_To_120','Income_Category_40_To_60','Income_Category_120_Plus','Income_Category_Unknown','Card_Category_Blue','Card_Category_Gold','Card_Category_Silver','Card_Category_Platinum','Age_Scaled','CreditScore_Scaled','Tenure_Scaled','Credit_Limit_Scaled','Total_Trans_Amt_Scaled','Total_Trans_Ct_Scaled','Balance_Scaled','NumOfProducts_Scaled','EstimatedSalary_Scaled']]\n",
        "trainDataToPCA.shape\n"
      ],
      "metadata": {
        "colab": {
          "base_uri": "https://localhost:8080/"
        },
        "id": "_m9nuz0vF3vX",
        "outputId": "0dad43cc-fc71-457e-e452-f0d7d65c2b46"
      },
      "execution_count": 41,
      "outputs": [
        {
          "output_type": "execute_result",
          "data": {
            "text/plain": [
              "(10000, 35)"
            ]
          },
          "metadata": {},
          "execution_count": 41
        }
      ]
    },
    {
      "cell_type": "code",
      "source": [
        "import matplotlib.pyplot as plt\n",
        "from sklearn.decomposition import PCA\n",
        "\n",
        "pca = PCA(n_components=None)\n",
        "pca.fit(trainDataToPCA)\n",
        "exp_var = pca.explained_variance_ratio_ * 100\n",
        "cum_exp_var = np.cumsum(exp_var)\n",
        "\n",
        "plt.bar(range(1, 36), exp_var, align='center',\n",
        "        label='Individual explained variance')\n",
        "\n",
        "plt.step(range(1, 36), cum_exp_var, where='mid',\n",
        "         label='Cumulative explained variance', color='red')\n",
        "\n",
        "plt.ylabel('Explained variance percentage')\n",
        "plt.xlabel('Principal component index')\n",
        "plt.xticks(ticks=[1, 2, 3, 4, 5, 6,7,8,9,10,11,12,13,14,15,16,17,18,19,20,21,22,23,24,25,26,27,28,29,30,31,32,33,34,35])\n",
        "plt.legend(loc='best')\n",
        "plt.tight_layout()\n",
        "\n",
        "plt.savefig(\"Barplot.png\")"
      ],
      "metadata": {
        "colab": {
          "base_uri": "https://localhost:8080/",
          "height": 487
        },
        "id": "uTeAUFuRIvEJ",
        "outputId": "51b2e200-4282-4b43-a332-27d79193821a"
      },
      "execution_count": 47,
      "outputs": [
        {
          "output_type": "display_data",
          "data": {
            "text/plain": [
              "<Figure size 640x480 with 1 Axes>"
            ],
            "image/png": "[encoded data removed]"
          },
          "metadata": {}
        }
      ]
    },
    {
      "cell_type": "code",
      "source": [],
      "metadata": {
        "id": "nKWtNxf0Gdp3"
      },
      "execution_count": null,
      "outputs": []
    },
    {
      "cell_type": "code",
      "source": [],
      "metadata": {
        "id": "00jbUTay4qBF"
      },
      "execution_count": null,
      "outputs": []
    }
  ]
}